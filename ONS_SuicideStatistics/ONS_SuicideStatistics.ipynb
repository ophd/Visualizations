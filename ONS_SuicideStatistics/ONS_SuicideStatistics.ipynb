{
 "cells": [
  {
   "cell_type": "code",
   "execution_count": null,
   "metadata": {},
   "outputs": [],
   "source": [
    "import os\n",
    "import pandas as pd\n",
    "import numpy as np\n",
    "import matplotlib.pyplot as plt\n",
    "from matplotlib import cm\n",
    "from matplotlib.patches import Polygon, PathPatch\n",
    "from matplotlib.path import Path\n",
    "from matplotlib.ticker import AutoLocator, AutoMinorLocator, FormatStrFormatter\n",
    "%matplotlib notebook"
   ]
  },
  {
   "cell_type": "code",
   "execution_count": null,
   "metadata": {},
   "outputs": [],
   "source": [
    "def load_data():\n",
    "    fpath = os.path.join(os.getcwd(), 'ONS_SuicideStatistics', 'data',\n",
    "                         'ONS_UK_SuicideStatistics.csv')\n",
    "\n",
    "    data = pd.read_csv(fpath)\n",
    "    # the first and last indices of Age are strings <10 and 90+\n",
    "    # <10 has no data (all zeroes)\n",
    "    # 90+ will be plotted at 90 anyway. The + can be reflected by\n",
    "    # changing the axis tick labels. int type for age will be easier\n",
    "    # to deal with than str type.\n",
    "    data = data.drop(0)\n",
    "    data.loc[data.index[-1], 'Age'] = 90\n",
    "    data = data.astype({'Age': int})\n",
    "\n",
    "    return data"
   ]
  },
  {
   "cell_type": "code",
   "execution_count": null,
   "metadata": {},
   "outputs": [],
   "source": [
    "def create_plot():\n",
    "    df = load_data()\n",
    "    years = df.columns.values[~df.columns.isin(['Age'])]\n",
    "    # years = df.columns.values[~df.columns.isin(['Age']) & df.columns.isin(['1982', '1999', '2000', '1984', '1985', '2015', '2013'])]\n",
    "    cmap = cm.get_cmap('Blues', 150)\n",
    "    nrows = len(years)\n",
    "    fig, axes = plt.subplots(nrows=nrows, figsize=(6, 0.2*nrows), sharex=True)\n",
    "    fig.subplots_adjust(bottom=0.09, top=0.97, left=0.06, right=0.93, hspace=-0.8)\n",
    "\n",
    "    a,b = 10, 90\n",
    "    label_colour = '#363636'\n",
    "\n",
    "    for axis, year in zip(axes, years):\n",
    "        axis.plot(df['Age'], df[year], c='#FFFFFF', alpha=0)\n",
    "        axis.autoscale(False)\n",
    "        axis.patch.set_alpha(0)\n",
    "\n",
    "        poly_vertices = [(a, 0)] + list(zip(df['Age'], df[year])) + [(b, 0)]\n",
    "        polygon = Polygon(poly_vertices, color='none')\n",
    "        patch = axis.add_patch(polygon)\n",
    "\n",
    "        img = np.expand_dims(df['Age'].values, axis=1)\n",
    "        axis.imshow(img, cmap=cmap, origin='lower', aspect='auto', \n",
    "                clip_path=patch, clip_on=True, extent=[10,90,0,150])\n",
    "        \n",
    "        axis.annotate(year, (1.015, 0.02),\n",
    "                    xycoords='axes fraction',\n",
    "                    va='bottom', ha='left', color='k',\n",
    "                    fontsize='small', c=label_colour)\n",
    "        set_axis_appearance(axis)\n",
    "        \n",
    "    set_bottom_axis_appearance(axes[-1], a, b, label_colour)\n",
    "\n",
    "\n",
    "    fpath = os.path.join(os.getcwd(), 'Output_Figures', 'SuicityStatistics.png')\n",
    "    fig.savefig(fpath, bbox_inchex='auto', pad_inches=0)\n"
   ]
  },
  {
   "cell_type": "code",
   "execution_count": null,
   "metadata": {},
   "outputs": [],
   "source": [
    "def set_axis_appearance(axis):\n",
    "    for side in ['left', 'right', 'top', 'bottom']:\n",
    "        axis.spines[side].set_visible(False)\n",
    "    axis.tick_params(axis='both', which='both',\n",
    "                    left=False, right=False, bottom=False, top=False,\n",
    "                    labelbottom=False, labelleft=False)"
   ]
  },
  {
   "cell_type": "code",
   "execution_count": null,
   "metadata": {},
   "outputs": [],
   "source": [
    "def set_bottom_axis_appearance(axis, xmin, xmax, label_colour=None):\n",
    "    spine_colour = '#363636'\n",
    "    minor_tick_colour = '#8A8A8A'\n",
    "    \n",
    "    axis.spines['bottom'].set_visible(True)\n",
    "    axis.spines['bottom'].set_color(spine_colour)\n",
    "    axis.spines['bottom'].set_bounds(xmin, xmax)\n",
    "    axis.tick_params(axis='x', bottom=True, labelbottom=True)\n",
    "    axis.tick_params(axis='x', which='major', bottom=True, colors=spine_colour)\n",
    "    axis.tick_params(axis='x', which='minor', bottom=True, length=3, colors=minor_tick_colour)\n",
    "    \n",
    "    axis.set_xlim([xmin,xmax])\n",
    "    axis.xaxis.set_major_locator(AutoLocator())\n",
    "    axis.set_xticklabels(axis.get_xticks())\n",
    "    axis.xaxis.set_minor_locator(AutoMinorLocator())\n",
    "    \n",
    "    xlabels = [f'{float(label.get_text()):.0f}' for label \n",
    "                    in axis.get_xticklabels(which='major')]\n",
    "    xlabels[0] = f'<{xlabels[0]}'\n",
    "    xlabels[-1] = f'{xlabels[-1]}+'\n",
    "    axis.set_xticklabels(xlabels)\n",
    "    axis.set_xlabel('Age')\n",
    "    axis.xaxis.label.set_color(label_colour)\n"
   ]
  },
  {
   "cell_type": "code",
   "execution_count": null,
   "metadata": {},
   "outputs": [],
   "source": [
    "def enter_axes(event):\n",
    "    pass\n",
    "    #TODO: if no axis was entered before event, make all other axes low alpha\n",
    "    #TODO: entered axis needs to show x-axis & y-axis\n",
    "    #TODO: the last axis usually has it's x-axis on display. need to turn that off."
   ]
  },
  {
   "cell_type": "code",
   "execution_count": null,
   "metadata": {},
   "outputs": [],
   "source": [
    "def leave_axes(event):\n",
    "    pass\n",
    "    #TODO: give the axis being left a low alpha to put it in the background\n",
    "    #TODO: if no axis is entered, make all axes visible/normal alpha"
   ]
  },
  {
   "cell_type": "code",
   "execution_count": null,
   "metadata": {},
   "outputs": [],
   "source": [
    "cid_enter = fig.canvas.mpl_connect('axes_enter_event', enter_axes)\n",
    "cid_leave = fig.canvas.mpl_connect('axes_leave_event', leave_axes)"
   ]
  }
 ],
 "metadata": {
  "kernelspec": {
   "display_name": "Python 3",
   "language": "python",
   "name": "python3"
  }
 },
 "nbformat": 4,
 "nbformat_minor": 4
}
